{
 "cells": [
  {
   "cell_type": "code",
   "execution_count": 1,
   "metadata": {
    "collapsed": true
   },
   "outputs": [],
   "source": [
    "import graphlab"
   ]
  },
  {
   "cell_type": "code",
   "execution_count": 3,
   "metadata": {
    "collapsed": false
   },
   "outputs": [],
   "source": [
    "graphlab.set_runtime_config('GRAPHLAB_DEFAULT_NUM_PYLAMBDA_WORKERS', 4)"
   ]
  },
  {
   "cell_type": "code",
   "execution_count": 4,
   "metadata": {
    "collapsed": true
   },
   "outputs": [],
   "source": [
    "sales_data = graphlab.SFrame('home_data.gl/')"
   ]
  },
  {
   "cell_type": "code",
   "execution_count": 6,
   "metadata": {
    "collapsed": false
   },
   "outputs": [
    {
     "data": {
      "application/javascript": [
       "$(\"head\").append($(\"<link/>\").attr({\n",
       "  rel:  \"stylesheet\",\n",
       "  type: \"text/css\",\n",
       "  href: \"//cdnjs.cloudflare.com/ajax/libs/font-awesome/4.1.0/css/font-awesome.min.css\"\n",
       "}));\n",
       "$(\"head\").append($(\"<link/>\").attr({\n",
       "  rel:  \"stylesheet\",\n",
       "  type: \"text/css\",\n",
       "  href: \"https://static.turi.com/products/graphlab-create/2.1/canvas/css/canvas.css\"\n",
       "}));\n",
       "\n",
       "            (function(){\n",
       "\n",
       "                var e = null;\n",
       "                if (typeof element == 'undefined') {\n",
       "                    var scripts = document.getElementsByTagName('script');\n",
       "                    var thisScriptTag = scripts[scripts.length-1];\n",
       "                    var parentDiv = thisScriptTag.parentNode;\n",
       "                    e = document.createElement('div');\n",
       "                    parentDiv.appendChild(e);\n",
       "                } else {\n",
       "                    e = element[0];\n",
       "                }\n",
       "\n",
       "                if (typeof requirejs !== 'undefined') {\n",
       "                    // disable load timeout; ipython_app.js is large and can take a while to load.\n",
       "                    requirejs.config({waitSeconds: 0});\n",
       "                }\n",
       "\n",
       "                require(['https://static.turi.com/products/graphlab-create/2.1/canvas/js/ipython_app.js'], function(IPythonApp){\n",
       "                    var app = new IPythonApp();\n",
       "                    app.attachView('sframe','Plots', {\"selected_variable\": {\"name\": [\"sales_data\"], \"descriptives\": {\"rows\": 21613, \"columns\": 21}, \"view_component\": \"Plots\", \"view_file\": \"sframe\", \"view_params\": {\"y\": \"price\", \"x\": \"sqft_living\", \"columns\": [\"id\", \"date\", \"price\", \"bedrooms\", \"bathrooms\", \"sqft_living\", \"sqft_lot\", \"floors\", \"waterfront\", \"view\", \"condition\", \"grade\", \"sqft_above\", \"sqft_basement\", \"yr_built\", \"yr_renovated\", \"zipcode\", \"lat\", \"long\", \"sqft_living15\", \"sqft_lot15\"], \"view\": \"Scatter Plot\"}, \"view_components\": [\"Summary\", \"Table\", \"Bar Chart\", \"BoxWhisker Plot\", \"Line Chart\", \"Scatter Plot\", \"Heat Map\", \"Plots\"], \"type\": \"SFrame\", \"columns\": [{\"dtype\": \"str\", \"name\": \"id\"}, {\"dtype\": \"datetime\", \"name\": \"date\"}, {\"dtype\": \"int\", \"name\": \"price\"}, {\"dtype\": \"str\", \"name\": \"bedrooms\"}, {\"dtype\": \"str\", \"name\": \"bathrooms\"}, {\"dtype\": \"int\", \"name\": \"sqft_living\"}, {\"dtype\": \"int\", \"name\": \"sqft_lot\"}, {\"dtype\": \"str\", \"name\": \"floors\"}, {\"dtype\": \"int\", \"name\": \"waterfront\"}, {\"dtype\": \"int\", \"name\": \"view\"}, {\"dtype\": \"int\", \"name\": \"condition\"}, {\"dtype\": \"int\", \"name\": \"grade\"}, {\"dtype\": \"int\", \"name\": \"sqft_above\"}, {\"dtype\": \"int\", \"name\": \"sqft_basement\"}, {\"dtype\": \"int\", \"name\": \"yr_built\"}, {\"dtype\": \"int\", \"name\": \"yr_renovated\"}, {\"dtype\": \"str\", \"name\": \"zipcode\"}, {\"dtype\": \"float\", \"name\": \"lat\"}, {\"dtype\": \"float\", \"name\": \"long\"}, {\"dtype\": \"float\", \"name\": \"sqft_living15\"}, {\"dtype\": \"float\", \"name\": \"sqft_lot15\"}], \"column_identifiers\": [\"bathrooms\", \"sqft_living15\", \"sqft_above\", \"grade\", \"yr_built\", \"price\", \"bedrooms\", \"zipcode\", \"long\", \"id\", \"sqft_lot15\", \"sqft_living\", \"floors\", \"sqft_lot\", \"date\", \"waterfront\", \"sqft_basement\", \"yr_renovated\", \"lat\", \"condition\", \"view\"]}, \"complete\": 1, \"ipython\": true, \"progress\": 1.0, \"data\": [[1380, 365000], [1850, 390000], [1290, 350500], [2570, 500000], [2450, 450000], [1255, 360000], [2410, 715000], [1300, 310000], [1360, 450000], [2120, 385000], [1690, 212000], [2150, 369900], [2800, 563500], [1510, 545000], [1020, 238000], [2230, 740000], [1700, 407000], [1700, 290000], [1840, 639000], [1650, 559500], [2885, 605000], [1620, 382880], [1170, 175000], [2510, 410000], [2210, 353000], [1670, 565000], [1290, 250800], [1470, 230000], [670, 415000], [1880, 452000], [1930, 559000], [1190, 280000], [1620, 247500], [1060, 826000], [1670, 500000], [3720, 828500], [1280, 291000], [2460, 704111], [3230, 834950], [1890, 550000], [2390, 770126], [1200, 255000], [2180, 470000], [3080, 1125000], [1600, 224000], [2100, 270000], [2320, 655000], [2750, 418000], [830, 350000], [3190, 1249000], [3890, 1125000], [2510, 600000], [1550, 318500], [1610, 250000], [1600, 395000], [2120, 414000], [1520, 434900], [2200, 300000], [1980, 400000], [6900, 1135000], [2120, 720000], [720, 225000], [2710, 615000], [1940, 525000], [2910, 788000], [1840, 300000], [2430, 384200], [1530, 654000], [1500, 245000], [2060, 459500], [1830, 465000], [3410, 2600000], [2010, 475000], [1100, 225500], [3930, 1250000], [2260, 451000], [1840, 286500], [1740, 548500], [4140, 1400000], [1030, 240000], [910, 182500], [1000, 210000], [880, 292000], [2100, 506000], [1880, 300000], [2260, 359950], [1670, 229999], [1600, 510000], [2240, 363990], [3230, 499950], [2800, 677790], [1070, 195000], [1780, 710000], [1820, 545000], [1680, 575000], [2099, 289950], [1650, 440000], [890, 587750], [1600, 995000], [980, 595000], [1250, 405000], [1990, 675000], [820, 361280], [2640, 823000], [2280, 653675], [3890, 985000], [800, 350000], [900, 263300], [1200, 231500], [1510, 260000], [3890, 850000], [2710, 482000], [1590, 293467], [2300, 560000], [2310, 627000], [4380, 740500], [1970, 575000], [2160, 260000], [2100, 735000], [2320, 900000], [1520, 207000], [1500, 340000], [900, 210000], [1450, 557000], [1120, 380000], [1560, 669000], [2100, 445000], [1650, 260000], [1680, 320000], [1920, 230000], [1610, 630000], [1990, 580000], [1730, 535500], [1070, 299000], [2200, 698000], [390, 228000], [1660, 685000], [1070, 324000], [1590, 280000], [3240, 719950], [1070, 265000], [1350, 429000], [3100, 460000], [2480, 325000], [2450, 559950], [1970, 690000], [1580, 245000], [2120, 470000], [2260, 258000], [1360, 348500], [1360, 532170], [870, 365000], [1250, 282950], [790, 130000], [1100, 220000], [1410, 355000], [2110, 243500], [1140, 276000], [770, 220000], [670, 435000], [2620, 277500], [1330, 339950], [1550, 557800], [3270, 560000], [1220, 447000], [2160, 750000], [2020, 356000], [3040, 735000], [2680, 653000], [1010, 166000], [1830, 431000], [1830, 379500], [2070, 560000], [1660, 315000], [2430, 255000], [3810, 515000], [1930, 339500], [3080, 560000], [2650, 685000], [3250, 875000], [720, 447000], [1280, 215000], [1940, 661000], [1580, 575000], [2780, 870000], [2680, 590000], [3920, 889000], [630, 148000], [1700, 331500], [2640, 518000], [1190, 275000], [1570, 169000], [3090, 370000], [3695, 994900], [3060, 710000], [2701, 399895], [1800, 205000], [1740, 577000], [1690, 370000], [2430, 372000], [1840, 390000], [1990, 273000], [1560, 290000], [2510, 475000], [2520, 450000], [1720, 550000], [1250, 144000], [1660, 288000], [1510, 350000], [2390, 645500], [1220, 415500], [4490, 3120000], [860, 160000], [2714, 465000], [1010, 174500], [1100, 277000], [2350, 585000], [2610, 372000], [1560, 273000], [3480, 970000], [1660, 675000], [3300, 1105000], [1240, 170000], [1700, 712000], [1910, 240000], [1250, 365000], [550, 290000], [1140, 716000], [1020, 225000], [1990, 285000], [3600, 1355000], [1600, 525000], [2070, 741000], [1830, 358000], [720, 155000], [3760, 1025000], [2180, 506000], [1690, 622000], [1710, 482000], [1810, 545000], [3060, 877500], [2260, 532000], [4500, 750000], [2655, 409950], [1380, 425000], [1690, 600000], [1580, 558000], [3830, 1850000], [2960, 605000], [2310, 890000], [1810, 260000], [990, 430000], [1640, 299999], [1910, 230000], [1730, 245000], [1780, 450000], [1190, 515000], [1960, 325000], [1200, 370900], [2650, 410000], [1090, 265000], [2570, 275000], [4070, 1400000], [3133, 685000], [2690, 690000], [1850, 383000], [2740, 672800], [3340, 699000], [1490, 745000], [3130, 302300], [1280, 184500], [1200, 165000], [2980, 620000], [2430, 780000], [5440, 850000], [1720, 439950], [1160, 280000], [2770, 1112000], [1180, 249000], [1610, 218000], [1890, 450000], [2240, 418200], [3140, 712000], [2920, 820000], [1320, 185000], [2600, 252500], [1690, 464000], [1430, 405000], [1670, 270000], [3400, 1690000], [1950, 510000], [3560, 833000], [2440, 710000], [1390, 450000], [4000, 570000], [3110, 925000], [3470, 1320000], [2100, 492000], [1280, 545000], [2140, 367777], [1950, 500000], [1040, 170000], [1780, 240000], [1260, 435000], [1450, 330000], [1770, 316500], [1800, 400000], [2410, 490000], [2940, 837000], [2050, 535500], [1860, 472000], [2040, 319900], [1480, 350000], [3520, 1220000], [4720, 745000], [4440, 1295000], [3450, 905000], [1090, 196000], [2360, 550000], [1490, 445000], [1540, 324000], [1650, 550000], [1450, 230000], [1460, 295000], [1910, 395000], [2620, 659500], [3030, 274975], [640, 279200], [1000, 186375], [2370, 790000], [1270, 540000], [1550, 425000], [770, 310000], [790, 330000], [2500, 575000], [2680, 620000], [3370, 813000], [1550, 320000], [860, 200000], [2310, 370000], [1530, 500000], [900, 252500], [1320, 304000], [2900, 930000], [2300, 567500], [1740, 447000], [1860, 430000], [1510, 479200], [2090, 562100], [1390, 258000], [3380, 554000], [1430, 545000], [2190, 833000], [2280, 718000], [1650, 369500], [3060, 475000], [1140, 230000], [3090, 1170000], [1600, 380000], [2507, 551870], [1510, 425000], [2580, 699000], [1610, 371000], [3410, 1225000], [1180, 447500], [3190, 750000], [1170, 299950], [2550, 516000], [2140, 998500], [2670, 515000], [2310, 470000], [1790, 330000], [3840, 575000], [1010, 300000], [1560, 524000], [1960, 552321], [2430, 1000000], [1170, 440000], [2190, 808000], [1770, 375000], [1260, 216000], [3100, 1125000], [3010, 745000], [1690, 419990], [1200, 222000], [2870, 555000], [1420, 523950], [2170, 876650], [2120, 403950], [1430, 485000], [2240, 260000], [1560, 324950], [2620, 672000], [4140, 657500], [2100, 309900], [790, 159100], [3270, 750000], [1940, 365000], [2220, 862000], [1510, 248000], [2780, 834500], [1290, 525000], [1490, 289000], [2830, 969950], [1040, 580000], [1540, 385500], [1290, 450000], [3170, 820000], [670, 390000], [1130, 239000], [2550, 675000], [1690, 314950], [1470, 344950], [1810, 268643], [1520, 522500], [3160, 558000], [2730, 510000], [2200, 423000], [3080, 1050000], [6070, 1550000], [5210, 2195000], [1800, 272000], [3190, 2125000], [980, 378000], [3400, 915000], [2650, 745000], [1280, 425000], [1500, 408000], [1890, 620000], [1460, 381000], [1050, 250000], [2560, 518000], [1460, 220000], [2650, 340000], [2150, 410000], [920, 514000], [960, 265000], [2400, 440000], [1670, 483500], [2500, 530000], [2070, 675000], [2019, 293000], [2350, 1195000], [1680, 210000], [1580, 557510], [2120, 379400], [2680, 350000], [2650, 397450], [1640, 492000], [1350, 439000], [2456, 329950], [840, 528000], [1440, 432250], [620, 402000], [1250, 370037], [1700, 750000], [830, 160000], [1940, 630000], [3140, 578000], [1570, 998500], [1960, 308000], [1490, 480000], [1610, 292500], [2390, 359500], [1120, 227950], [2490, 527900], [1480, 465000], [2310, 334000], [2300, 740000], [1810, 342500], [3780, 782000], [2130, 325250], [1300, 324500], [1620, 640000], [980, 201000], [1530, 247500], [1540, 439990], [2260, 418200], [2160, 355000], [1370, 357000], [2190, 587450], [3080, 539500], [1580, 335000], [1030, 315000], [1670, 249950], [1280, 405000], [4860, 1067000], [890, 207950], [2250, 550000], [4050, 1380000], [2060, 558000], [2340, 305000], [1260, 240000], [2820, 669950], [1850, 355000], [1360, 250000], [1350, 428000], [1160, 330000], [1680, 469000], [1920, 341000], [3180, 650000], [1510, 675000], [2400, 620000], [1730, 249950], [1620, 514000], [1260, 485000], [1610, 246700], [1500, 525000], [1150, 445000], [1270, 316000], [1340, 332000], [12050, 7700000], [1990, 450000], [1620, 415000], [2610, 535000], [1650, 385000], [2200, 559900], [2260, 467500], [1210, 324950], [2290, 449999], [2584, 429900], [2300, 510000], [1910, 746000], [1440, 515000], [2060, 890000], [1714, 307000], [1410, 383000], [1630, 376500], [740, 230500], [2480, 610000], [2080, 448500], [700, 199950], [2780, 449900], [1430, 403250], [3400, 475000], [2290, 343000], [2260, 555000], [940, 267000], [1440, 447000], [1970, 346900], [3910, 1650000], [1700, 245000], [2230, 398750], [1500, 470000], [1350, 394950], [1740, 261500], [3110, 751000], [1780, 365000], [3440, 855000], [1940, 555000], [2700, 520000], [4380, 1450000], [4220, 1165000], [3030, 580000], [1060, 230000], [3530, 1655000], [1980, 775000], [2880, 1538000], [1530, 252000], [2720, 455950], [4260, 994000], [1850, 385000], [2460, 678500], [1310, 310000], [2210, 415000], [1860, 384950], [1360, 240000], [1430, 574500], [2770, 575000], [2600, 440000], [2060, 575000], [1900, 550000], [3140, 345000], [2015, 988500], [1984, 300000], [1900, 615000], [3135, 374500], [1300, 394950], [2320, 530000], [3140, 915000], [1350, 388000], [3078, 459950], [2400, 280000], [2900, 352000], [2790, 484259], [2890, 795000], [1520, 415000], [1480, 455000], [1420, 435000], [1680, 306000], [1540, 850000], [2500, 1185001], [2050, 739000], [1600, 562000], [960, 457500], [1890, 359950], [1400, 372500], [1680, 620000], [2680, 676000], [1230, 400000], [3550, 450000], [2420, 399950], [2990, 1075000], [2390, 557500], [1500, 736000], [1880, 455000], [1430, 465000], [3560, 835000], [2980, 1155000], [2460, 325000], [3020, 755000], [1640, 365000], [1540, 441000], [4150, 930800], [1040, 217450], [2800, 1850000], [1290, 225000], [1360, 553650], [2480, 775000], [1352, 325000], [3070, 1570000], [1380, 543115], [1540, 375000], [2210, 334000], [990, 325000], [2170, 550000], [2910, 595000], [1670, 325000], [1300, 252000], [2920, 868500], [3540, 1027500], [2110, 716125], [1180, 275000], [1490, 258000], [990, 285000], [1360, 255000], [2820, 408000], [1050, 209950], [2190, 630000], [3700, 1728000], [1200, 476500], [1020, 460000], [2380, 570000], [1280, 425000], [1060, 395350], [2560, 562000], [1470, 244000], [1900, 579000], [960, 345000], [1320, 284000], [2840, 735000], [3220, 558000], [1250, 233000], [1320, 412000], [1860, 526500], [1990, 536000], [1820, 365000], [1710, 411753], [1360, 253200], [1400, 367000], [1460, 312000], [2000, 375000], [2230, 770000], [970, 303000], [2590, 576000], [1930, 570000], [2080, 249900], [1250, 520000], [1250, 345000], [1370, 380000], [1050, 310000], [1350, 280000], [2510, 664000], [1260, 445000], [3810, 1700000], [1320, 650000], [1330, 440000], [880, 210000], [2090, 478500], [1760, 294500], [1260, 485000], [1930, 432500], [2660, 886000], [2810, 1565000], [1680, 629950], [1880, 860000], [3180, 1236300], [900, 249500], [3990, 810000], [1030, 450000], [670, 235000], [3160, 757500], [1780, 540000], [2410, 715500], [2900, 690000], [1410, 245000], [1550, 255000], [2070, 470000], [2570, 492500], [2680, 721000], [2370, 543000], [1500, 505000], [3300, 789888], [1050, 390000], [1550, 328000], [1790, 721000], [1900, 500000], [2440, 480000], [1770, 729000], [1960, 310000], [10040, 7062500], [1670, 245000], [1730, 265000], [1130, 210000], [3990, 1200000], [1530, 352000], [2840, 751000], [1930, 465000], [1760, 780500], [2500, 488000], [1860, 672500], [3020, 808100], [3650, 550000], [3560, 1280600], [1590, 310000], [1340, 289571], [2610, 368000], [2930, 915000], [2560, 552625], [1500, 405000], [2250, 572650], [2510, 600000], [2090, 403000], [1590, 454000], [2840, 490000], [1950, 438000], [1610, 262500], [5960, 1140000], [1860, 495000], [3410, 750000], [2720, 1020000], [2900, 675000], [1950, 370000], [1490, 310000], [1030, 212500], [2330, 710000], [1050, 325000], [3230, 1260000], [2510, 706000], [3600, 461000], [1560, 494400], [1450, 359000], [2700, 552500], [1100, 286000], [2640, 678000], [2400, 425000], [3750, 942500], [2510, 860000], [2643, 376950], [2830, 405600], [2620, 597500], [1020, 195000], [3140, 990000], [2840, 580000], [3130, 1389000], [1930, 586000], [3700, 1250000], [1310, 447000], [1630, 474900], [1900, 212000], [2990, 900000], [1880, 266500], [1940, 465250], [1040, 270000], [3830, 865000], [2290, 436500], [2500, 680000], [1250, 234900], [2010, 530000], [1350, 626000], [1490, 263000], [2240, 495000], [3540, 707000], [2290, 630000], [4000, 739000], [1240, 375000], [1530, 371025], [1430, 552500], [2100, 440000], [1390, 396000], [2090, 456500], [3820, 1250000], [960, 374500], [2900, 339000], [3140, 375000], [4030, 855000], [1340, 525000], [1040, 225000], [700, 282150], [1610, 438750], [1810, 326500], [1150, 415950], [3140, 765000], [2080, 783000], [1890, 445000], [1650, 294000], [1820, 532000], [1910, 498500], [1330, 440000], [1240, 625000], [1250, 345000], [1730, 312000], [4520, 550000], [1350, 388500], [1660, 261000], [3690, 640000], [1160, 305000], [1730, 470000], [3370, 540000], [1270, 512000], [2410, 767500], [1910, 617000], [1950, 359000], [2800, 550000], [2120, 329950], [1370, 257950], [1340, 466200], [2080, 450000], [2910, 1168000], [1210, 510000], [1500, 529000], [1510, 310000], [2030, 572500], [2230, 700000], [1980, 760000], [2440, 500000], [1451, 300000], [3600, 817500], [1730, 258000], [1500, 290000], [1610, 430000], [2120, 440000], [1580, 690000], [2310, 750000], [670, 250000], [2080, 436800], [2160, 820000], [4000, 628000], [1540, 244000], [2283, 389950], [1800, 515000], [3340, 810000], [2480, 555000], [2690, 805000], [3370, 825000], [1880, 320000], [2320, 685000], [1980, 500000], [2060, 425000], [2050, 585000], [1400, 510250], [910, 565000], [1150, 227000], [2400, 499000], [1040, 299000], [2160, 410000], [2550, 1400000], [2542, 359950], [2400, 420000], [1010, 315000], [1640, 561000], [1960, 300000], [2160, 798750], [1800, 271000], [1500, 379000], [1590, 385000], [2050, 500000], [2380, 342000], [860, 227000], [2630, 1442500], [1140, 160000], [2980, 367500], [2340, 429000], [1460, 602000], [2200, 930000], [2780, 315000], [1400, 367500], [3500, 1010000], [1330, 360000], [2350, 735000], [1440, 355000], [1720, 255000], [3860, 900000], [1560, 303000], [4100, 2027000], [1750, 410000], [1481, 250000], [2590, 1500000], [1270, 347000], [1850, 280017], [2910, 504058], [2030, 515000], [2800, 540500], [840, 400000], [1560, 360000], [1070, 346000], [1260, 220000], [1200, 210000], [1460, 395000], [2540, 696500], [2550, 669888], [1350, 567500], [2403, 519900], [1170, 399000], [2720, 535000], [2670, 1165000], [3200, 995000], [3240, 604000], [2940, 464500], [1610, 345000], [1320, 526000], [1580, 720000], [1780, 375000], [2840, 1145000], [900, 174000], [1210, 615000], [2760, 375000], [2390, 420000], [1020, 265000], [1580, 359000], [1320, 300000], [3470, 875000], [1340, 399000], [3650, 799900], [2481, 309000], [1340, 297000], [2570, 1475000], [910, 169900], [1460, 240000], [2140, 680000], [2290, 465000], [1090, 289950], [1490, 570000], [1900, 539000], [1500, 513000], [2250, 328000], [3120, 953007], [2550, 328950], [1710, 675000], [2080, 549950], [3300, 850000], [2020, 415000], [4370, 473000], [1880, 475999], [1400, 280000], [4970, 1436000], [1070, 401750], [2640, 389517], [1060, 285000], [2600, 475000], [1870, 575000], [2410, 938000], [2140, 502000], [2140, 594000], [2190, 245000], [2490, 442500], [3370, 1550000], [1160, 262500], [2640, 570000], [990, 222000], [1260, 530000], [2230, 646800], [1750, 660000], [1310, 187300], [1936, 338900], [1900, 252500], [2150, 414999], [1780, 587500], [890, 305000], [2620, 750000], [1780, 312000], [2930, 749000], [1940, 299000], [1380, 426000], [2510, 675000], [1970, 650000], [1270, 555000], [1700, 315000], [1450, 395000], [1200, 250000], [1370, 420550], [2330, 580000], [1270, 349500], [1490, 253000], [1000, 249000], [1180, 630500], [1400, 259950], [1530, 700180], [1120, 546000], [3300, 780000]], \"columns\": [{\"dtype\": \"str\", \"name\": \"id\"}, {\"dtype\": \"datetime\", \"name\": \"date\"}, {\"dtype\": \"int\", \"name\": \"price\"}, {\"dtype\": \"str\", \"name\": \"bedrooms\"}, {\"dtype\": \"str\", \"name\": \"bathrooms\"}, {\"dtype\": \"int\", \"name\": \"sqft_living\"}, {\"dtype\": \"int\", \"name\": \"sqft_lot\"}, {\"dtype\": \"str\", \"name\": \"floors\"}, {\"dtype\": \"int\", \"name\": \"waterfront\"}, {\"dtype\": \"int\", \"name\": \"view\"}, {\"dtype\": \"int\", \"name\": \"condition\"}, {\"dtype\": \"int\", \"name\": \"grade\"}, {\"dtype\": \"int\", \"name\": \"sqft_above\"}, {\"dtype\": \"int\", \"name\": \"sqft_basement\"}, {\"dtype\": \"int\", \"name\": \"yr_built\"}, {\"dtype\": \"int\", \"name\": \"yr_renovated\"}, {\"dtype\": \"str\", \"name\": \"zipcode\"}, {\"dtype\": \"float\", \"name\": \"lat\"}, {\"dtype\": \"float\", \"name\": \"long\"}, {\"dtype\": \"float\", \"name\": \"sqft_living15\"}, {\"dtype\": \"float\", \"name\": \"sqft_lot15\"}]}, e);\n",
       "                });\n",
       "            })();\n",
       "        "
      ]
     },
     "metadata": {},
     "output_type": "display_data"
    }
   ],
   "source": [
    "graphlab.canvas.set_target('ipynb')\n",
    "sales_data.show(view=\"Scatter Plot\", x=\"sqft_living\", y=\"price\")"
   ]
  },
  {
   "cell_type": "code",
   "execution_count": 9,
   "metadata": {
    "collapsed": true
   },
   "outputs": [],
   "source": [
    "train_data, test_data = sales_data.random_split(0.8, seed=2017)"
   ]
  },
  {
   "cell_type": "code",
   "execution_count": 10,
   "metadata": {
    "collapsed": false
   },
   "outputs": [],
   "source": [
    "features = [\n",
    "'bedrooms', 'bathrooms', 'sqft_living', 'sqft_lot', 'floors', 'zipcode',\n",
    "'condition', # condition of house\t\t\t\t\n",
    "'grade', # measure of quality of construction\t\t\t\t\n",
    "'waterfront', # waterfront property\t\t\t\t\n",
    "'view', # type of view\t\t\t\t\n",
    "'sqft_above', # square feet above ground\t\t\t\t\n",
    "'sqft_basement', # square feet in basement\t\t\t\t\n",
    "'yr_built', # the year built\t\t\t\t\n",
    "'yr_renovated', # the year renovated\t\t\t\t\n",
    "'lat', 'long', # the lat-long of the parcel\t\t\t\t\n",
    "'sqft_living15', # average sq.ft. of 15 nearest neighbors \t\t\t\t\n",
    "'sqft_lot15', # average lot size of 15 nearest neighbors \n",
    "]"
   ]
  },
  {
   "cell_type": "code",
   "execution_count": 14,
   "metadata": {
    "collapsed": false
   },
   "outputs": [
    {
     "data": {
      "text/html": [
       "<pre>Linear regression:</pre>"
      ],
      "text/plain": [
       "Linear regression:"
      ]
     },
     "metadata": {},
     "output_type": "display_data"
    },
    {
     "data": {
      "text/html": [
       "<pre>--------------------------------------------------------</pre>"
      ],
      "text/plain": [
       "--------------------------------------------------------"
      ]
     },
     "metadata": {},
     "output_type": "display_data"
    },
    {
     "data": {
      "text/html": [
       "<pre>Number of examples          : 17344</pre>"
      ],
      "text/plain": [
       "Number of examples          : 17344"
      ]
     },
     "metadata": {},
     "output_type": "display_data"
    },
    {
     "data": {
      "text/html": [
       "<pre>Number of features          : 18</pre>"
      ],
      "text/plain": [
       "Number of features          : 18"
      ]
     },
     "metadata": {},
     "output_type": "display_data"
    },
    {
     "data": {
      "text/html": [
       "<pre>Number of unpacked features : 18</pre>"
      ],
      "text/plain": [
       "Number of unpacked features : 18"
      ]
     },
     "metadata": {},
     "output_type": "display_data"
    },
    {
     "data": {
      "text/html": [
       "<pre>Number of coefficients    : 128</pre>"
      ],
      "text/plain": [
       "Number of coefficients    : 128"
      ]
     },
     "metadata": {},
     "output_type": "display_data"
    },
    {
     "data": {
      "text/html": [
       "<pre>Starting Newton Method</pre>"
      ],
      "text/plain": [
       "Starting Newton Method"
      ]
     },
     "metadata": {},
     "output_type": "display_data"
    },
    {
     "data": {
      "text/html": [
       "<pre>--------------------------------------------------------</pre>"
      ],
      "text/plain": [
       "--------------------------------------------------------"
      ]
     },
     "metadata": {},
     "output_type": "display_data"
    },
    {
     "data": {
      "text/html": [
       "<pre>+-----------+----------+--------------+--------------------+---------------+</pre>"
      ],
      "text/plain": [
       "+-----------+----------+--------------+--------------------+---------------+"
      ]
     },
     "metadata": {},
     "output_type": "display_data"
    },
    {
     "data": {
      "text/html": [
       "<pre>| Iteration | Passes   | Elapsed Time | Training-max_error | Training-rmse |</pre>"
      ],
      "text/plain": [
       "| Iteration | Passes   | Elapsed Time | Training-max_error | Training-rmse |"
      ]
     },
     "metadata": {},
     "output_type": "display_data"
    },
    {
     "data": {
      "text/html": [
       "<pre>+-----------+----------+--------------+--------------------+---------------+</pre>"
      ],
      "text/plain": [
       "+-----------+----------+--------------+--------------------+---------------+"
      ]
     },
     "metadata": {},
     "output_type": "display_data"
    },
    {
     "data": {
      "text/html": [
       "<pre>| 1         | 2        | 1.058093     | 3550406.220275     | 150321.316579 |</pre>"
      ],
      "text/plain": [
       "| 1         | 2        | 1.058093     | 3550406.220275     | 150321.316579 |"
      ]
     },
     "metadata": {},
     "output_type": "display_data"
    },
    {
     "data": {
      "text/html": [
       "<pre>+-----------+----------+--------------+--------------------+---------------+</pre>"
      ],
      "text/plain": [
       "+-----------+----------+--------------+--------------------+---------------+"
      ]
     },
     "metadata": {},
     "output_type": "display_data"
    },
    {
     "data": {
      "text/html": [
       "<pre>SUCCESS: Optimal solution found.</pre>"
      ],
      "text/plain": [
       "SUCCESS: Optimal solution found."
      ]
     },
     "metadata": {},
     "output_type": "display_data"
    },
    {
     "data": {
      "text/html": [
       "<pre></pre>"
      ],
      "text/plain": []
     },
     "metadata": {},
     "output_type": "display_data"
    }
   ],
   "source": [
    "train_model = graphlab.linear_regression.create(train_data, target='price', \n",
    "                                        features=features, validation_set=None)"
   ]
  },
  {
   "cell_type": "code",
   "execution_count": 16,
   "metadata": {
    "collapsed": false
   },
   "outputs": [
    {
     "name": "stdout",
     "output_type": "stream",
     "text": [
      "{'max_error': 5056404.701428561, 'rmse': 180148.05182102855}\n"
     ]
    }
   ],
   "source": [
    "print train_model.evaluate(test_data)"
   ]
  },
  {
   "cell_type": "code",
   "execution_count": 18,
   "metadata": {
    "collapsed": false
   },
   "outputs": [],
   "source": [
    "import matplotlib.pyplot as plt\n",
    "%matplotlib inline"
   ]
  },
  {
   "cell_type": "code",
   "execution_count": 19,
   "metadata": {
    "collapsed": false
   },
   "outputs": [
    {
     "data": {
      "text/plain": [
       "[<matplotlib.lines.Line2D at 0x2136fd30>,\n",
       " <matplotlib.lines.Line2D at 0x2136fdd8>]"
      ]
     },
     "execution_count": 19,
     "metadata": {},
     "output_type": "execute_result"
    },
    {
     "data": {
      "image/png": "[encoded data removed]",
      "text/plain": [
       "<matplotlib.figure.Figure at 0x2129d6d8>"
      ]
     },
     "metadata": {},
     "output_type": "display_data"
    }
   ],
   "source": [
    "plt.plot(test_data['sqft_living'], test_data['price'], '.',\n",
    "        test_data['sqft_living'], train_model.predict(test_data), '-')"
   ]
  },
  {
   "cell_type": "code",
   "execution_count": 20,
   "metadata": {
    "collapsed": true
   },
   "outputs": [],
   "source": [
    "house1 = sales_data[sales_data['id']=='5309101200']"
   ]
  },
  {
   "cell_type": "code",
   "execution_count": 23,
   "metadata": {
    "collapsed": false
   },
   "outputs": [
    {
     "name": "stdout",
     "output_type": "stream",
     "text": [
      "[620000L, ... ]\n",
      "[632853.1033241707]\n"
     ]
    }
   ],
   "source": [
    "print house1['price']\n",
    "print train_model.predict(house1)"
   ]
  },
  {
   "cell_type": "code",
   "execution_count": 24,
   "metadata": {
    "collapsed": true
   },
   "outputs": [],
   "source": [
    "house2 = sales_data[sales_data['id']=='1925069082']"
   ]
  },
  {
   "cell_type": "code",
   "execution_count": 25,
   "metadata": {
    "collapsed": false
   },
   "outputs": [
    {
     "name": "stdout",
     "output_type": "stream",
     "text": [
      "[2200000L, ... ]\n",
      "[2016733.836426869]\n"
     ]
    }
   ],
   "source": [
    "print house2['price']\n",
    "print train_model.predict(house2)"
   ]
  },
  {
   "cell_type": "code",
   "execution_count": null,
   "metadata": {
    "collapsed": true
   },
   "outputs": [],
   "source": []
  }
 ],
 "metadata": {
  "kernelspec": {
   "display_name": "Python 2",
   "language": "python",
   "name": "python2"
  },
  "language_info": {
   "codemirror_mode": {
    "name": "ipython",
    "version": 2
   },
   "file_extension": ".py",
   "mimetype": "text/x-python",
   "name": "python",
   "nbconvert_exporter": "python",
   "pygments_lexer": "ipython2",
   "version": "2.7.13"
  }
 },
 "nbformat": 4,
 "nbformat_minor": 0
}
